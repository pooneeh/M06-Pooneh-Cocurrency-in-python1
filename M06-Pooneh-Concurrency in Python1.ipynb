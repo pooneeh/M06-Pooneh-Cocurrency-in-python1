{
 "cells": [
  {
   "cell_type": "code",
   "execution_count": 4,
   "id": "c24ffb15",
   "metadata": {},
   "outputs": [],
   "source": [
    "\"\"\"\n",
    "#Pooneh\n",
    "SDEV 220\n",
    "M06 ch 13\n",
    "\n",
    "\"\"\"\n",
    "#13.1 Write the current date as a string to the text file today.txt.\n",
    "\n",
    "import datetime\n",
    "\n",
    "# Get the current date as a string\n",
    "today = datetime.date.today().strftime('%Y-%m-%d')\n",
    "\n",
    "# Write the date to the file\n",
    "with open('today.txt', 'w') as file:\n",
    "    file.write(today)\n"
   ]
  },
  {
   "cell_type": "code",
   "execution_count": 5,
   "id": "a79e73ac",
   "metadata": {},
   "outputs": [],
   "source": [
    "#13.2 Read the text file today.txt into the string today_string.\n",
    "\n",
    "\n",
    "# Open the file \"today.txt\" \n",
    "with open(\"today.txt\", \"r\") as file:\n",
    "    today_string = file.read()"
   ]
  },
  {
   "cell_type": "code",
   "execution_count": 9,
   "id": "9222fe82",
   "metadata": {},
   "outputs": [
    {
     "name": "stdout",
     "output_type": "stream",
     "text": [
      "2023-04-30 00:00:00\n"
     ]
    }
   ],
   "source": [
    "#13.3 Parse the date from today_string.\n",
    "\n",
    "import datetime\n",
    "\n",
    "# Parse the date from today_string using strptime\n",
    "date_obj = datetime.datetime.strptime(today_string, \"%Y-%m-%d\")\n",
    "\n",
    "# Print the date object\n",
    "print(date_obj)\n"
   ]
  },
  {
   "cell_type": "code",
   "execution_count": 13,
   "id": "a0b743fd",
   "metadata": {},
   "outputs": [],
   "source": [
    "#15.1 Use multiprocessing to create three separate processes. Make each one wait a random number of seconds between zero and one, print the current time, and then exit.\n",
    "\n",
    "import multiprocessing\n",
    "import datetime\n",
    "import random\n",
    "import time\n",
    "\n",
    "def wait_and_print():\n",
    "    # a random number of seconds between 0 and 1\n",
    "    wait_time = random.random()\n",
    "    time.sleep(wait_time)\n",
    "    \n",
    "    print(datetime.datetime.now())\n",
    "    \n",
    "    return\n",
    "\n",
    "processes = [multiprocessing.Process(target=wait_and_print) for i in range(3)]\n",
    "\n",
    "for process in processes:\n",
    "    process.start()\n",
    "\n",
    "for process in processes:\n",
    "    process.join()\n"
   ]
  },
  {
   "cell_type": "code",
   "execution_count": null,
   "id": "df531730",
   "metadata": {},
   "outputs": [],
   "source": []
  }
 ],
 "metadata": {
  "kernelspec": {
   "display_name": "Python 3 (ipykernel)",
   "language": "python",
   "name": "python3"
  },
  "language_info": {
   "codemirror_mode": {
    "name": "ipython",
    "version": 3
   },
   "file_extension": ".py",
   "mimetype": "text/x-python",
   "name": "python",
   "nbconvert_exporter": "python",
   "pygments_lexer": "ipython3",
   "version": "3.10.9"
  }
 },
 "nbformat": 4,
 "nbformat_minor": 5
}
